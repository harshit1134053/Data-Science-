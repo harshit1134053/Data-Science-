{
 "cells": [
  {
   "cell_type": "markdown",
   "id": "247d8428-2785-4959-8c29-1ef40ac8f0d1",
   "metadata": {},
   "source": [
    "##### We have to build a student databse wherein we will have:\n",
    "\n",
    "    * Student_id\n",
    "    * Gender\n",
    "    * Department\n",
    "    * Sessional_perc\n",
    "    * Final_sem marks\n",
    "    * Backlogs\n",
    "    "
   ]
  },
  {
   "cell_type": "code",
   "execution_count": 23,
   "id": "19e76db1-96a2-498c-8d31-4bb57c9b510d",
   "metadata": {},
   "outputs": [],
   "source": [
    "student_ids = ['S01','S02','S03','S04','S05']\n",
    "gender = ['M','F','F','M','F']\n",
    "dept = ['CS','ECE','ME','CS','ME']\n",
    "sessional_perc = [45,60,73,65.3,71.9]\n",
    "total_marks = [680,800,520,650,780]\n",
    "backlogs = ['NB','B','NB','NB','NB']"
   ]
  },
  {
   "cell_type": "markdown",
   "id": "a9b3d46f-53bc-44aa-8cef-c7ce6d802636",
   "metadata": {},
   "source": [
    "#### If any student has received more than 70% in their sessional, increase the total marks by 2%"
   ]
  },
  {
   "cell_type": "code",
   "execution_count": 24,
   "id": "4a1ab595-3c4e-43f9-be3b-03b88a87c9ef",
   "metadata": {},
   "outputs": [
    {
     "data": {
      "text/plain": [
       "[0, 1, 2, 3, 4]"
      ]
     },
     "execution_count": 24,
     "metadata": {},
     "output_type": "execute_result"
    }
   ],
   "source": [
    "list(range(5))"
   ]
  },
  {
   "cell_type": "code",
   "execution_count": 25,
   "id": "5f01894a-5717-4ab0-ab7f-8e8cb2ff41a0",
   "metadata": {},
   "outputs": [
    {
     "data": {
      "text/plain": [
       "60"
      ]
     },
     "execution_count": 25,
     "metadata": {},
     "output_type": "execute_result"
    }
   ],
   "source": [
    "sessional_perc[1]"
   ]
  },
  {
   "cell_type": "code",
   "execution_count": 26,
   "id": "0d44daf6-00d1-4076-b144-7221bb48ce1b",
   "metadata": {},
   "outputs": [
    {
     "name": "stdout",
     "output_type": "stream",
     "text": [
      "Marks did not change\n",
      "Marks did not change\n",
      "Marks did not change\n"
     ]
    }
   ],
   "source": [
    "for i in range(len(student_ids)):\n",
    "    if sessional_perc[i] > 70:\n",
    "        total_marks[i] = total_marks[i] + total_marks[i]*0.02\n",
    "    else:\n",
    "        print('Marks did not change')"
   ]
  },
  {
   "cell_type": "markdown",
   "id": "040965d9-f4fb-4c12-99f9-3f2cda94bd50",
   "metadata": {},
   "source": [
    "#### S01 and S04 have got Backlogs and we need to update them"
   ]
  },
  {
   "cell_type": "code",
   "execution_count": 27,
   "id": "c2bd4ec9-49bf-4865-a8b8-0be3cb1e28ca",
   "metadata": {},
   "outputs": [
    {
     "name": "stdout",
     "output_type": "stream",
     "text": [
      "0\n",
      "1\n",
      "2\n",
      "3\n",
      "4\n"
     ]
    }
   ],
   "source": [
    "updated_students = ['S01','S04']\n",
    "\n",
    "for i in range (len(student_ids)):\n",
    "    print(i)\n",
    "    if student_ids[i] in updated_students:\n",
    "        backlogs[i] = 'B'"
   ]
  },
  {
   "cell_type": "code",
   "execution_count": 28,
   "id": "09dacf55-391d-4b1a-905e-2c073091ebef",
   "metadata": {},
   "outputs": [
    {
     "data": {
      "text/plain": [
       "['B', 'B', 'NB', 'B', 'NB']"
      ]
     },
     "execution_count": 28,
     "metadata": {},
     "output_type": "execute_result"
    }
   ],
   "source": [
    "backlogs"
   ]
  },
  {
   "cell_type": "markdown",
   "id": "a6843640-165f-4ecd-b3d0-1d73287e9b11",
   "metadata": {},
   "source": [
    "#### \n",
    "\n",
    "If a student's total marks is greater than 750 and they have no backlog and they are from CS dept, they will receive a 'High Achiever Scholarship'.\n",
    "\n",
    "If a student has no backlog and has marks between 650 and 720, they will receive 'Achiever Scholarship'"
   ]
  },
  {
   "cell_type": "code",
   "execution_count": 29,
   "id": "9b1bb869-fdf3-469e-8be8-27be1ba78f34",
   "metadata": {},
   "outputs": [
    {
     "data": {
      "text/plain": [
       "['CS', 'ECE', 'ME', 'CS', 'ME']"
      ]
     },
     "execution_count": 29,
     "metadata": {},
     "output_type": "execute_result"
    }
   ],
   "source": [
    "dept"
   ]
  },
  {
   "cell_type": "code",
   "execution_count": 30,
   "id": "dc945074-0ae1-49e5-92bd-3240231a5141",
   "metadata": {},
   "outputs": [],
   "source": [
    "dept[4] = 'CS'"
   ]
  },
  {
   "cell_type": "code",
   "execution_count": 38,
   "id": "72966366-627f-43d6-a102-347f30f55dc9",
   "metadata": {},
   "outputs": [],
   "source": [
    "total_marks[2] = 680"
   ]
  },
  {
   "cell_type": "code",
   "execution_count": 39,
   "id": "8d9a915b-9e60-4cdd-8130-9d1886f75090",
   "metadata": {},
   "outputs": [
    {
     "data": {
      "text/plain": [
       "[680, 800, 680, 650, 795.6]"
      ]
     },
     "execution_count": 39,
     "metadata": {},
     "output_type": "execute_result"
    }
   ],
   "source": [
    "total_marks"
   ]
  },
  {
   "cell_type": "code",
   "execution_count": 14,
   "id": "cf320a89-0b37-4b29-887f-e1522092d0a9",
   "metadata": {},
   "outputs": [
    {
     "data": {
      "text/plain": [
       "['B', 'B', 'NB', 'B', 'NB']"
      ]
     },
     "execution_count": 14,
     "metadata": {},
     "output_type": "execute_result"
    }
   ],
   "source": [
    "backlogs"
   ]
  },
  {
   "cell_type": "code",
   "execution_count": 15,
   "id": "4042d52e-c277-4912-85ee-07ad6ae36fa5",
   "metadata": {},
   "outputs": [],
   "source": [
    "scholarships = ['No Scholarship' for _ in range (len(student_ids))]"
   ]
  },
  {
   "cell_type": "code",
   "execution_count": 16,
   "id": "4c655668-9597-4e34-9b00-75af50129c59",
   "metadata": {},
   "outputs": [
    {
     "data": {
      "text/plain": [
       "['No Scholarship',\n",
       " 'No Scholarship',\n",
       " 'No Scholarship',\n",
       " 'No Scholarship',\n",
       " 'No Scholarship']"
      ]
     },
     "execution_count": 16,
     "metadata": {},
     "output_type": "execute_result"
    }
   ],
   "source": [
    "scholarships"
   ]
  },
  {
   "cell_type": "code",
   "execution_count": 20,
   "id": "7b82d551-3d96-4e3a-82f4-b7beb0649e43",
   "metadata": {},
   "outputs": [],
   "source": [
    "scholarships = []\n",
    "\n",
    "for _ in range(len(student_ids)):\n",
    "    scholarships.append('No Scholarship')"
   ]
  },
  {
   "cell_type": "code",
   "execution_count": 21,
   "id": "cfc472ca-58d9-45bf-bf2f-c7708c2e3a90",
   "metadata": {},
   "outputs": [
    {
     "data": {
      "text/plain": [
       "['No Scholarship',\n",
       " 'No Scholarship',\n",
       " 'No Scholarship',\n",
       " 'No Scholarship',\n",
       " 'No Scholarship']"
      ]
     },
     "execution_count": 21,
     "metadata": {},
     "output_type": "execute_result"
    }
   ],
   "source": [
    "scholarships"
   ]
  },
  {
   "cell_type": "code",
   "execution_count": 40,
   "id": "9181503b-5e6c-435f-a91a-94be3c098323",
   "metadata": {},
   "outputs": [
    {
     "name": "stdout",
     "output_type": "stream",
     "text": [
      "No scholarships were given\n",
      "No scholarships were given\n",
      "Achiever Scholarship awarded to S03\n",
      "No scholarships were given\n",
      "High Achiever Scholarship awarded to S05\n"
     ]
    }
   ],
   "source": [
    "for i in range(len(student_ids)):\n",
    "    if dept[i] == 'CS' and total_marks[i]>750 and backlogs[i] == 'NB':\n",
    "        scholarships[i] = 'High Achiever Scholarship'\n",
    "        print(f\"High Achiever Scholarship awarded to {student_ids[i]}\")\n",
    "        \n",
    "    elif backlogs[i] == 'NB' and (650<total_marks[i]<=720):\n",
    "        scholarships[i] = 'Achiever Scholarship'\n",
    "        print(f\"Achiever Scholarship awarded to {student_ids[i]}\")\n",
    "    else:\n",
    "        print('No scholarships were given')"
   ]
  },
  {
   "cell_type": "code",
   "execution_count": 34,
   "id": "d1ec632b-900d-459c-bfcb-bb5dd99ac786",
   "metadata": {},
   "outputs": [],
   "source": [
    "a =  10\n",
    "b = 5\n",
    "\n",
    "c = a+b"
   ]
  },
  {
   "cell_type": "code",
   "execution_count": 37,
   "id": "216a02e9-6412-4f35-8d29-5253f94760f6",
   "metadata": {},
   "outputs": [
    {
     "name": "stdout",
     "output_type": "stream",
     "text": [
      "The sum of 10 and 5 is 15\n"
     ]
    }
   ],
   "source": [
    "print(f\"The sum of {a} and {b} is {c}\")"
   ]
  },
  {
   "cell_type": "code",
   "execution_count": 41,
   "id": "1497c848-1cf0-4c32-ae4e-68e38161ed36",
   "metadata": {},
   "outputs": [
    {
     "data": {
      "text/plain": [
       "['No Scholarship',\n",
       " 'No Scholarship',\n",
       " 'Achiever Scholarship',\n",
       " 'No Scholarship',\n",
       " 'High Achiever Scholarship']"
      ]
     },
     "execution_count": 41,
     "metadata": {},
     "output_type": "execute_result"
    }
   ],
   "source": [
    "scholarships"
   ]
  },
  {
   "cell_type": "code",
   "execution_count": 42,
   "id": "dcd03765-b01f-4a14-9608-90e7efa8e3f9",
   "metadata": {},
   "outputs": [],
   "source": [
    "std_db = {\n",
    "    'Student ID': student_ids,\n",
    "    'Gender': gender,\n",
    "    'Department': dept,\n",
    "    'Sessional Perc': sessional_perc,\n",
    "    'Total Marks': total_marks,\n",
    "    'Backlog': backlogs,\n",
    "    'Scholarships': scholarships\n",
    "    \n",
    "}"
   ]
  },
  {
   "cell_type": "code",
   "execution_count": 43,
   "id": "f9d308bc-f209-4d69-827f-86be3b9aeac2",
   "metadata": {},
   "outputs": [
    {
     "data": {
      "text/plain": [
       "{'Student ID': ['S01', 'S02', 'S03', 'S04', 'S05'],\n",
       " 'Gender': ['M', 'F', 'F', 'M', 'F'],\n",
       " 'Department': ['CS', 'ECE', 'ME', 'CS', 'CS'],\n",
       " 'Sessional Perc': [45, 60, 73, 65.3, 71.9],\n",
       " 'Total Marks': [680, 800, 680, 650, 795.6],\n",
       " 'Backlog': ['B', 'B', 'NB', 'B', 'NB'],\n",
       " 'Scholarships': ['No Scholarship',\n",
       "  'No Scholarship',\n",
       "  'Achiever Scholarship',\n",
       "  'No Scholarship',\n",
       "  'High Achiever Scholarship']}"
      ]
     },
     "execution_count": 43,
     "metadata": {},
     "output_type": "execute_result"
    }
   ],
   "source": [
    "std_db"
   ]
  },
  {
   "cell_type": "code",
   "execution_count": 45,
   "id": "c81cd4ee-7c17-4b6a-87a8-3556acbe95b0",
   "metadata": {},
   "outputs": [
    {
     "data": {
      "text/plain": [
       "dict_keys(['Student ID', 'Gender', 'Department', 'Sessional Perc', 'Total Marks', 'Backlog', 'Scholarships'])"
      ]
     },
     "execution_count": 45,
     "metadata": {},
     "output_type": "execute_result"
    }
   ],
   "source": [
    "std_db.keys()"
   ]
  },
  {
   "cell_type": "code",
   "execution_count": 46,
   "id": "d92581dd-5fcf-4e21-8255-d303f24c1d99",
   "metadata": {},
   "outputs": [
    {
     "data": {
      "text/plain": [
       "dict_values([['S01', 'S02', 'S03', 'S04', 'S05'], ['M', 'F', 'F', 'M', 'F'], ['CS', 'ECE', 'ME', 'CS', 'CS'], [45, 60, 73, 65.3, 71.9], [680, 800, 680, 650, 795.6], ['B', 'B', 'NB', 'B', 'NB'], ['No Scholarship', 'No Scholarship', 'Achiever Scholarship', 'No Scholarship', 'High Achiever Scholarship']])"
      ]
     },
     "execution_count": 46,
     "metadata": {},
     "output_type": "execute_result"
    }
   ],
   "source": [
    "std_db.values()"
   ]
  },
  {
   "cell_type": "code",
   "execution_count": 47,
   "id": "a3948312-4f5e-423a-aeba-aefadf954571",
   "metadata": {},
   "outputs": [
    {
     "data": {
      "text/plain": [
       "dict_items([('Student ID', ['S01', 'S02', 'S03', 'S04', 'S05']), ('Gender', ['M', 'F', 'F', 'M', 'F']), ('Department', ['CS', 'ECE', 'ME', 'CS', 'CS']), ('Sessional Perc', [45, 60, 73, 65.3, 71.9]), ('Total Marks', [680, 800, 680, 650, 795.6]), ('Backlog', ['B', 'B', 'NB', 'B', 'NB']), ('Scholarships', ['No Scholarship', 'No Scholarship', 'Achiever Scholarship', 'No Scholarship', 'High Achiever Scholarship'])])"
      ]
     },
     "execution_count": 47,
     "metadata": {},
     "output_type": "execute_result"
    }
   ],
   "source": [
    "std_db.items()"
   ]
  },
  {
   "cell_type": "code",
   "execution_count": 48,
   "id": "fe05dd72-e067-4745-92c5-eac13de7e97e",
   "metadata": {},
   "outputs": [
    {
     "data": {
      "text/plain": [
       "-2"
      ]
     },
     "execution_count": 48,
     "metadata": {},
     "output_type": "execute_result"
    }
   ],
   "source": [
    "~True"
   ]
  },
  {
   "cell_type": "code",
   "execution_count": null,
   "id": "ee92a77b-93de-4a6c-b222-c36d564908fd",
   "metadata": {},
   "outputs": [],
   "source": []
  }
 ],
 "metadata": {
  "kernelspec": {
   "display_name": "Python 3 (ipykernel)",
   "language": "python",
   "name": "python3"
  },
  "language_info": {
   "codemirror_mode": {
    "name": "ipython",
    "version": 3
   },
   "file_extension": ".py",
   "mimetype": "text/x-python",
   "name": "python",
   "nbconvert_exporter": "python",
   "pygments_lexer": "ipython3",
   "version": "3.10.8"
  }
 },
 "nbformat": 4,
 "nbformat_minor": 5
}
