{
 "cells": [
  {
   "cell_type": "code",
   "execution_count": 28,
   "id": "d367e30e-774f-4c5e-8f8d-a3ac7db3cf9e",
   "metadata": {},
   "outputs": [],
   "source": [
    "l=[10,20,30,40,50]"
   ]
  },
  {
   "cell_type": "code",
   "execution_count": 8,
   "id": "48394034-76d1-468b-831a-3b5655c42a98",
   "metadata": {},
   "outputs": [],
   "source": [
    "def test (l):\n",
    "    l1=[]\n",
    "    for i in l:\n",
    "        l1.append(i**2)\n",
    "    return l1"
   ]
  },
  {
   "cell_type": "code",
   "execution_count": 4,
   "id": "d35a4738-9d87-42d1-9119-3ae12bca6ce1",
   "metadata": {},
   "outputs": [
    {
     "data": {
      "text/plain": [
       "[100, 400, 900, 1600, 2500]"
      ]
     },
     "execution_count": 4,
     "metadata": {},
     "output_type": "execute_result"
    }
   ],
   "source": [
    "test(l)"
   ]
  },
  {
   "cell_type": "code",
   "execution_count": 12,
   "id": "b1db0df4-bd61-4adc-aefb-135f42b88edd",
   "metadata": {},
   "outputs": [],
   "source": [
    "def test1(l1):\n",
    "    l2=[]\n",
    "    for  i in l1:\n",
    "        l2.append(i**3)\n",
    "    return l2"
   ]
  },
  {
   "cell_type": "code",
   "execution_count": 13,
   "id": "35596e3a-0f53-4fa4-a902-7c1031dcdd2d",
   "metadata": {},
   "outputs": [
    {
     "data": {
      "text/plain": [
       "[8, 27, 64, 125]"
      ]
     },
     "execution_count": 13,
     "metadata": {},
     "output_type": "execute_result"
    }
   ],
   "source": [
    "test1(l1=[2,3,4,5])"
   ]
  },
  {
   "cell_type": "code",
   "execution_count": 15,
   "id": "957d88a2-3159-4cb3-a8d3-0c63a8575c45",
   "metadata": {},
   "outputs": [],
   "source": [
    "def play(x):\n",
    "    return x+10*x"
   ]
  },
  {
   "cell_type": "code",
   "execution_count": 17,
   "id": "6cdcd164-9108-4a76-a29c-c263b21ba332",
   "metadata": {},
   "outputs": [
    {
     "data": {
      "text/plain": [
       "[110, 220, 330, 440, 550]"
      ]
     },
     "execution_count": 17,
     "metadata": {},
     "output_type": "execute_result"
    }
   ],
   "source": [
    "list(map(play,l))"
   ]
  },
  {
   "cell_type": "code",
   "execution_count": 19,
   "id": "838f8f14-6e10-45fe-b935-c8be7b19d3e3",
   "metadata": {},
   "outputs": [
    {
     "data": {
      "text/plain": [
       "[110, 220, 330, 440, 550]"
      ]
     },
     "execution_count": 19,
     "metadata": {},
     "output_type": "execute_result"
    }
   ],
   "source": [
    "list(map(lambda y: y+10*y ,l))"
   ]
  },
  {
   "cell_type": "code",
   "execution_count": 30,
   "id": "f1d2cf09-7075-477b-b5fc-59bb772d2722",
   "metadata": {},
   "outputs": [],
   "source": [
    "l1=[2,3,4,5]"
   ]
  },
  {
   "cell_type": "code",
   "execution_count": 32,
   "id": "37832ffe-226f-4e09-bf71-c1c5210ed83f",
   "metadata": {},
   "outputs": [
    {
     "data": {
      "text/plain": [
       "[20, 60, 120, 200]"
      ]
     },
     "execution_count": 32,
     "metadata": {},
     "output_type": "execute_result"
    }
   ],
   "source": [
    "list(map(lambda x, y : x*y,l,l1))"
   ]
  },
  {
   "cell_type": "code",
   "execution_count": 33,
   "id": "98ff918f-0cca-4be2-a984-1b714ab21ea1",
   "metadata": {},
   "outputs": [],
   "source": [
    "from functools import reduce "
   ]
  },
  {
   "cell_type": "code",
   "execution_count": 34,
   "id": "523764a4-88d4-47cd-8438-dbb0b17573a0",
   "metadata": {},
   "outputs": [
    {
     "data": {
      "text/plain": [
       "14"
      ]
     },
     "execution_count": 34,
     "metadata": {},
     "output_type": "execute_result"
    }
   ],
   "source": [
    "reduce(lambda x,y: x+y ,l1)"
   ]
  },
  {
   "cell_type": "code",
   "execution_count": 39,
   "id": "351ae2b9-9781-4123-ae1d-427c1f497965",
   "metadata": {},
   "outputs": [
    {
     "data": {
      "text/plain": [
       "[3]"
      ]
     },
     "execution_count": 39,
     "metadata": {},
     "output_type": "execute_result"
    }
   ],
   "source": [
    "list(filter(lambda x: x%3==0,l1))"
   ]
  },
  {
   "cell_type": "code",
   "execution_count": 40,
   "id": "c77b5513-2982-47e7-b9ad-e57b31969293",
   "metadata": {},
   "outputs": [],
   "source": [
    "a=lambda x, y : x**y +(x*y)"
   ]
  },
  {
   "cell_type": "code",
   "execution_count": 41,
   "id": "c3e6c00e-e9f7-44bb-80f9-0690762329ed",
   "metadata": {},
   "outputs": [
    {
     "data": {
      "text/plain": [
       "1044"
      ]
     },
     "execution_count": 41,
     "metadata": {},
     "output_type": "execute_result"
    }
   ],
   "source": [
    "a(4,5)"
   ]
  },
  {
   "cell_type": "code",
   "execution_count": null,
   "id": "03dab891-acf1-4093-81b1-89dcd4473209",
   "metadata": {},
   "outputs": [],
   "source": []
  }
 ],
 "metadata": {
  "kernelspec": {
   "display_name": "Python 3 (ipykernel)",
   "language": "python",
   "name": "python3"
  },
  "language_info": {
   "codemirror_mode": {
    "name": "ipython",
    "version": 3
   },
   "file_extension": ".py",
   "mimetype": "text/x-python",
   "name": "python",
   "nbconvert_exporter": "python",
   "pygments_lexer": "ipython3",
   "version": "3.10.8"
  }
 },
 "nbformat": 4,
 "nbformat_minor": 5
}
