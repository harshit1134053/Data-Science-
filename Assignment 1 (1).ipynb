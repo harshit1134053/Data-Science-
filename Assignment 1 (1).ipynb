{
 "cells": [
  {
   "cell_type": "markdown",
   "id": "2c15a667-aabf-46ae-ae2f-cb937e1ca86d",
   "metadata": {},
   "source": [
    "Q1. Create one variable containing following type of data:\n",
    "(i) string\n",
    "(ii) list\n",
    "(iii) float\n",
    "(iv) tuple"
   ]
  },
  {
   "cell_type": "code",
   "execution_count": 1,
   "id": "8a457377-9a44-4981-9722-9f45895cc0cb",
   "metadata": {},
   "outputs": [],
   "source": [
    "x= \"harshit\""
   ]
  },
  {
   "cell_type": "code",
   "execution_count": 2,
   "id": "ba1c9a46-e3d7-41b9-9634-bceea658719f",
   "metadata": {},
   "outputs": [],
   "source": [
    "y=[\"Harshit\", 1, 2002]"
   ]
  },
  {
   "cell_type": "code",
   "execution_count": 3,
   "id": "af00df01-0baa-4166-8c18-3d603f064b35",
   "metadata": {},
   "outputs": [],
   "source": [
    "z = 15.15"
   ]
  },
  {
   "cell_type": "code",
   "execution_count": 4,
   "id": "3bf23c03-0b52-4c34-9baf-dc9619df2adb",
   "metadata": {},
   "outputs": [],
   "source": [
    "m=(\"PW\",\"Skills\")"
   ]
  },
  {
   "cell_type": "markdown",
   "id": "518ffc8b-4e76-417c-af7c-d83d2c8bf0c6",
   "metadata": {},
   "source": [
    "Q2. Given are some following variables containing data:\n",
    "(i) var1 = ‘ ‘\n",
    "(ii) var2 = ‘[ DS , ML , Python]’\n",
    "(iii) var3 = [ ‘DS’ , ’ML’ , ‘Python’ ]\n",
    "(iv) var4 = 1."
   ]
  },
  {
   "cell_type": "markdown",
   "id": "1f0d7f56-7046-4862-aa17-8e08971a2642",
   "metadata": {},
   "source": [
    "1) String 2) String 3) List 4) Integer "
   ]
  },
  {
   "cell_type": "markdown",
   "id": "ce8829bf-2c89-4962-a01e-56b724bd5092",
   "metadata": {},
   "source": [
    "Q3. Explain the use of the following operators using an example:\n",
    "(i) /\n",
    "(ii) %\n",
    "(iii) //\n",
    "(iv) **"
   ]
  },
  {
   "cell_type": "code",
   "execution_count": 19,
   "id": "e54f8a25-e956-43f8-8b78-cd7c90603fc7",
   "metadata": {},
   "outputs": [
    {
     "data": {
      "text/plain": [
       "4.0"
      ]
     },
     "execution_count": 19,
     "metadata": {},
     "output_type": "execute_result"
    }
   ],
   "source": [
    "20/5\n",
    "    # It is a division operator"
   ]
  },
  {
   "cell_type": "code",
   "execution_count": 20,
   "id": "c36d2607-b32e-452d-a23a-8e49e9851796",
   "metadata": {},
   "outputs": [
    {
     "data": {
      "text/plain": [
       "0"
      ]
     },
     "execution_count": 20,
     "metadata": {},
     "output_type": "execute_result"
    }
   ],
   "source": [
    "20%5\n",
    "\n",
    "# It is a modulus operator that gives remainder as a result "
   ]
  },
  {
   "cell_type": "code",
   "execution_count": 21,
   "id": "336fdbb0-1a74-4b20-9926-f6200b6aefb4",
   "metadata": {},
   "outputs": [
    {
     "data": {
      "text/plain": [
       "4"
      ]
     },
     "execution_count": 21,
     "metadata": {},
     "output_type": "execute_result"
    }
   ],
   "source": [
    "20//5\n",
    "\n",
    "# it is  a floor value operator "
   ]
  },
  {
   "cell_type": "code",
   "execution_count": 22,
   "id": "e861b6fb-4448-4791-885e-b7efb9b456ec",
   "metadata": {},
   "outputs": [
    {
     "data": {
      "text/plain": [
       "8"
      ]
     },
     "execution_count": 22,
     "metadata": {},
     "output_type": "execute_result"
    }
   ],
   "source": [
    "2**3\n",
    "\n",
    "# It is a exponential operator where second value will be power of first value."
   ]
  },
  {
   "cell_type": "markdown",
   "id": "b4867896-876c-43a9-b168-d589f0f7d88a",
   "metadata": {},
   "source": [
    "Q4. Create a list of length 10 of your choice containing multiple types of data. Using for loop print the\n",
    "element and its data type."
   ]
  },
  {
   "cell_type": "code",
   "execution_count": 29,
   "id": "26456b11-77ec-49e2-ada8-8b2caef878c3",
   "metadata": {},
   "outputs": [
    {
     "name": "stdout",
     "output_type": "stream",
     "text": [
      "harshit\n",
      "<class 'str'>\n",
      "2\n",
      "<class 'int'>\n",
      "13.33\n",
      "<class 'float'>\n",
      "mishra\n",
      "<class 'str'>\n",
      "is \n",
      "<class 'str'>\n",
      " Learning \n",
      "<class 'str'>\n",
      "12\n",
      "<class 'int'>\n",
      "New\n",
      "<class 'str'>\n",
      "skills\n",
      "<class 'str'>\n",
      "2023\n",
      "<class 'int'>\n"
     ]
    }
   ],
   "source": [
    "list=[\"harshit\",2,13.33, \"mishra\", \"is \", \" Learning \", 12, \"New\", \"skills\", 2023]\n",
    "for i in list:\n",
    "    print(i)\n",
    "    print(type(i))"
   ]
  },
  {
   "cell_type": "markdown",
   "id": "df0ccb4f-c5ad-48e2-9c66-3bec607eb5ee",
   "metadata": {},
   "source": [
    "Q5. Using a while loop, verify if the number A is purely divisible by number B and if so then how many\n",
    "times it can be divisible."
   ]
  },
  {
   "cell_type": "code",
   "execution_count": 30,
   "id": "8db688ef-3208-4501-bd3c-1fcc0d2fa7fd",
   "metadata": {},
   "outputs": [
    {
     "name": "stdin",
     "output_type": "stream",
     "text": [
      " 8\n",
      " 2\n"
     ]
    },
    {
     "name": "stdout",
     "output_type": "stream",
     "text": [
      "3\n"
     ]
    }
   ],
   "source": [
    "a=int(input())\n",
    "b=int(input())\n",
    "i=0\n",
    "if(a%b==0):\n",
    "    while a>=b:\n",
    "        a=a/b\n",
    "        i=i+1\n",
    "print(i)\n",
    "    \n"
   ]
  },
  {
   "cell_type": "markdown",
   "id": "20d4523e-bff3-43a5-987c-9a4b2bf33d0f",
   "metadata": {},
   "source": [
    "Q6. Create a list containing 25 int type data. Using for loop and if-else condition print if the element is\n",
    "divisible by 3 or not."
   ]
  },
  {
   "cell_type": "code",
   "execution_count": 32,
   "id": "c622b7f2-6a46-4151-b793-a35ff1b3b454",
   "metadata": {},
   "outputs": [
    {
     "name": "stdout",
     "output_type": "stream",
     "text": [
      "1\n",
      "is not divisible by 3\n",
      "2\n",
      "is not divisible by 3\n",
      "3\n",
      "is divisble by 3\n",
      "4\n",
      "is not divisible by 3\n",
      "5\n",
      "is not divisible by 3\n",
      "6\n",
      "is divisble by 3\n",
      "7\n",
      "is not divisible by 3\n",
      "8\n",
      "is not divisible by 3\n",
      "9\n",
      "is divisble by 3\n",
      "10\n",
      "is not divisible by 3\n",
      "11\n",
      "is not divisible by 3\n",
      "12\n",
      "is divisble by 3\n",
      "13\n",
      "is not divisible by 3\n",
      "14\n",
      "is not divisible by 3\n",
      "15\n",
      "is divisble by 3\n",
      "16\n",
      "is not divisible by 3\n",
      "17\n",
      "is not divisible by 3\n",
      "18\n",
      "is divisble by 3\n",
      "19\n",
      "is not divisible by 3\n",
      "20\n",
      "is not divisible by 3\n",
      "21\n",
      "is divisble by 3\n",
      "22\n",
      "is not divisible by 3\n",
      "23\n",
      "is not divisible by 3\n",
      "24\n",
      "is divisble by 3\n",
      "25\n",
      "is not divisible by 3\n"
     ]
    }
   ],
   "source": [
    "list=[1,2,3,4,5,6,7,8,9,10,11,12,13,14,15,16,17,18,19,20,21,22,23,24,25]\n",
    "for i in list:\n",
    "    if(i%3==0):\n",
    "        print(i)\n",
    "        print( \"is divisble by 3\")\n",
    "    else:\n",
    "        print(i)\n",
    "        print( \"is not divisible by 3\")"
   ]
  },
  {
   "cell_type": "markdown",
   "id": "3b57cca6-74f9-48ed-85ad-2377c4789845",
   "metadata": {},
   "source": [
    "Q7. What do you understand about mutable and immutable data types? Give examples for both showing\n",
    "this property."
   ]
  },
  {
   "cell_type": "code",
   "execution_count": null,
   "id": "be95e796-fa03-4f98-906d-f1a7601b5dd1",
   "metadata": {},
   "outputs": [],
   "source": [
    "#Immutable data types are those that cannot be modified once they are created. Any attempt to modify an immutable data type results in a new object being created with the updated value. Examples of immutable data types include strings, numbers, and tuples. For example:\n",
    "x = \"hello\"\n",
    "x[0] = \"H\""
   ]
  }
 ],
 "metadata": {
  "kernelspec": {
   "display_name": "Python 3 (ipykernel)",
   "language": "python",
   "name": "python3"
  },
  "language_info": {
   "codemirror_mode": {
    "name": "ipython",
    "version": 3
   },
   "file_extension": ".py",
   "mimetype": "text/x-python",
   "name": "python",
   "nbconvert_exporter": "python",
   "pygments_lexer": "ipython3",
   "version": "3.10.8"
  }
 },
 "nbformat": 4,
 "nbformat_minor": 5
}
