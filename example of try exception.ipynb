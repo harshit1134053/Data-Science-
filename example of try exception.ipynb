{
 "cells": [
  {
   "cell_type": "code",
   "execution_count": 4,
   "id": "68b3d373-bf99-494a-88a8-83a08d307d5d",
   "metadata": {},
   "outputs": [],
   "source": [
    "class jai(Exception):\n",
    "     def __init__(self, msg):\n",
    "        self.msg=msg"
   ]
  },
  {
   "cell_type": "code",
   "execution_count": 7,
   "id": "08489466-b986-4811-af7f-eb02ff4e9ab1",
   "metadata": {},
   "outputs": [],
   "source": [
    "def validateage(age):\n",
    "    if age< 1:\n",
    "        raise jai(\"this is not correct age\")\n",
    "    elif age >110 :\n",
    "        raise jai (\"this is not possible\")\n",
    "    else:\n",
    "        raise jai (\"this is correct age \")    "
   ]
  },
  {
   "cell_type": "code",
   "execution_count": null,
   "id": "773eadfb-3acb-4622-a200-a0312295daae",
   "metadata": {},
   "outputs": [],
   "source": [
    "try:\n",
    "    age= int(input(\"tell me your age \")\n",
    "            "
   ]
  }
 ],
 "metadata": {
  "kernelspec": {
   "display_name": "Python 3 (ipykernel)",
   "language": "python",
   "name": "python3"
  },
  "language_info": {
   "codemirror_mode": {
    "name": "ipython",
    "version": 3
   },
   "file_extension": ".py",
   "mimetype": "text/x-python",
   "name": "python",
   "nbconvert_exporter": "python",
   "pygments_lexer": "ipython3",
   "version": "3.10.8"
  }
 },
 "nbformat": 4,
 "nbformat_minor": 5
}
